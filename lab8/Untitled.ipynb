{
 "cells": [
  {
   "cell_type": "code",
   "execution_count": 1,
   "id": "cd5cf785",
   "metadata": {},
   "outputs": [],
   "source": [
    "import numpy as np\n",
    "import math"
   ]
  },
  {
   "cell_type": "code",
   "execution_count": 2,
   "id": "a4a50218",
   "metadata": {},
   "outputs": [],
   "source": [
    "def activation_sigmoid(x):\n",
    "    # Implement the sigmoid function https://en.wikipedia.org/wiki/Sigmoid_function\n",
    "    h = 1/(1 + np.exp(-x))\n",
    "    return h"
   ]
  },
  {
   "cell_type": "code",
   "execution_count": 9,
   "id": "d37bd74a",
   "metadata": {},
   "outputs": [
    {
     "ename": "ValueError",
     "evalue": "operands could not be broadcast together with shapes (64,64) (64,32) ",
     "output_type": "error",
     "traceback": [
      "\u001b[0;31m---------------------------------------------------------------------------\u001b[0m",
      "\u001b[0;31mValueError\u001b[0m                                Traceback (most recent call last)",
      "\u001b[0;32m/var/folders/tc/qfc76dxj7456z8tqv6mk4xfh0000gn/T/ipykernel_55577/3254132384.py\u001b[0m in \u001b[0;36m<module>\u001b[0;34m\u001b[0m\n\u001b[1;32m      9\u001b[0m \u001b[0mW\u001b[0m \u001b[0;34m=\u001b[0m \u001b[0mnp\u001b[0m\u001b[0;34m.\u001b[0m\u001b[0mrandom\u001b[0m\u001b[0;34m.\u001b[0m\u001b[0mrandom\u001b[0m\u001b[0;34m(\u001b[0m\u001b[0;34m(\u001b[0m\u001b[0moutput_feat\u001b[0m\u001b[0;34m,\u001b[0m \u001b[0moutput_feat\u001b[0m\u001b[0;34m)\u001b[0m\u001b[0;34m)\u001b[0m\u001b[0;34m\u001b[0m\u001b[0;34m\u001b[0m\u001b[0m\n\u001b[1;32m     10\u001b[0m \u001b[0;34m\u001b[0m\u001b[0m\n\u001b[0;32m---> 11\u001b[0;31m \u001b[0mout\u001b[0m \u001b[0;34m=\u001b[0m \u001b[0mforward\u001b[0m\u001b[0;34m(\u001b[0m\u001b[0minputs\u001b[0m\u001b[0;34m,\u001b[0m \u001b[0mW\u001b[0m\u001b[0;34m,\u001b[0m \u001b[0mU\u001b[0m\u001b[0;34m)\u001b[0m\u001b[0;34m\u001b[0m\u001b[0;34m\u001b[0m\u001b[0m\n\u001b[0m\u001b[1;32m     12\u001b[0m \u001b[0mprint\u001b[0m\u001b[0;34m(\u001b[0m\u001b[0mout\u001b[0m\u001b[0;34m.\u001b[0m\u001b[0mshape\u001b[0m\u001b[0;34m)\u001b[0m\u001b[0;34m\u001b[0m\u001b[0;34m\u001b[0m\u001b[0m\n",
      "\u001b[0;32m/var/folders/tc/qfc76dxj7456z8tqv6mk4xfh0000gn/T/ipykernel_55577/4056865559.py\u001b[0m in \u001b[0;36mforward\u001b[0;34m(sequence, W, U)\u001b[0m\n\u001b[1;32m     10\u001b[0m     \u001b[0;31m# Use np.dot to do the vector-matrix multiplications\u001b[0m\u001b[0;34m\u001b[0m\u001b[0;34m\u001b[0m\u001b[0m\n\u001b[1;32m     11\u001b[0m     \u001b[0;32mfor\u001b[0m \u001b[0minput_t\u001b[0m \u001b[0;32min\u001b[0m \u001b[0msequence\u001b[0m\u001b[0;34m:\u001b[0m \u001b[0;31m# loop through elements in sequence\u001b[0m\u001b[0;34m\u001b[0m\u001b[0;34m\u001b[0m\u001b[0m\n\u001b[0;32m---> 12\u001b[0;31m         \u001b[0mx\u001b[0m \u001b[0;34m=\u001b[0m \u001b[0mW\u001b[0m \u001b[0;34m*\u001b[0m \u001b[0;34m(\u001b[0m\u001b[0mstate\u001b[0m\u001b[0;34m[\u001b[0m\u001b[0;34m-\u001b[0m\u001b[0;36m1\u001b[0m\u001b[0;34m]\u001b[0m\u001b[0;34m)\u001b[0m \u001b[0;34m+\u001b[0m \u001b[0mU\u001b[0m \u001b[0;34m*\u001b[0m \u001b[0minput_t\u001b[0m\u001b[0;34m\u001b[0m\u001b[0;34m\u001b[0m\u001b[0m\n\u001b[0m\u001b[1;32m     13\u001b[0m         \u001b[0mprint\u001b[0m\u001b[0;34m(\u001b[0m\u001b[0;34m\"hello\"\u001b[0m\u001b[0;34m)\u001b[0m\u001b[0;34m\u001b[0m\u001b[0;34m\u001b[0m\u001b[0m\n\u001b[1;32m     14\u001b[0m         \u001b[0moutput_t\u001b[0m \u001b[0;34m=\u001b[0m \u001b[0mactivation_sigmoid\u001b[0m\u001b[0;34m(\u001b[0m\u001b[0mx\u001b[0m\u001b[0;34m)\u001b[0m\u001b[0;34m\u001b[0m\u001b[0;34m\u001b[0m\u001b[0m\n",
      "\u001b[0;31mValueError\u001b[0m: operands could not be broadcast together with shapes (64,64) (64,32) "
     ]
    }
   ],
   "source": [
    "np.random.seed(23)\n",
    "\n",
    "timesteps = 100  # number of timesteps in the input sequence\n",
    "input_feat = 32  # number of features in the input\n",
    "output_feat = 64  # number of features in the output\n",
    "\n",
    "inputs = np.random.random((timesteps, input_feat))\n",
    "U = np.random.random((output_feat, input_feat))\n",
    "W = np.random.random((output_feat, output_feat))\n",
    "\n",
    "out = forward(inputs, W, U)\n",
    "print(out.shape)"
   ]
  },
  {
   "cell_type": "code",
   "execution_count": 8,
   "id": "7f262ff6",
   "metadata": {},
   "outputs": [],
   "source": [
    "def forward(sequence, W, U):\n",
    "    \"\"\" Forward step of a SimpleRNN layer.\n",
    "    # Assume that sequence is a rank-2 tensor of shape (timesteps, input_features)\n",
    "    # W, and U are rank-2 tensors of shape (output_feat, input_feat) and (output_feat, output_feat) respectively\n",
    "    \"\"\"\n",
    "    # 1. Initialise state as a list\n",
    "    state = [np.zeros(W.shape[0],)]\n",
    "    # 2. Iterate through the elements of the sequence. \n",
    "    # For each element, calculate the new state through the equation from slide 11 (using activation_sigmoid as the activation function) and append it to the state list\n",
    "    # Use np.dot to do the vector-matrix multiplications\n",
    "    for input_t in sequence: # loop through elements in sequence\n",
    "        x = W * (state[-1]) + U * input_t\n",
    "        print(\"hello\",x)\n",
    "        output_t = activation_sigmoid(x)\n",
    "        state = output_t\n",
    "    \n",
    "    # 3. Return the final output\n",
    "    return np.stack(state, axis=0)"
   ]
  }
 ],
 "metadata": {
  "kernelspec": {
   "display_name": "tf",
   "language": "python",
   "name": "tf"
  },
  "language_info": {
   "codemirror_mode": {
    "name": "ipython",
    "version": 3
   },
   "file_extension": ".py",
   "mimetype": "text/x-python",
   "name": "python",
   "nbconvert_exporter": "python",
   "pygments_lexer": "ipython3",
   "version": "3.9.7"
  }
 },
 "nbformat": 4,
 "nbformat_minor": 5
}
