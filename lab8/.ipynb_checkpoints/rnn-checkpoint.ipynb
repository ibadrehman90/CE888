{
 "cells": [
  {
   "cell_type": "markdown",
   "metadata": {
    "colab_type": "text",
    "id": "view-in-github"
   },
   "source": [
    "<a href=\"https://colab.research.google.com/github/albanda/CE888/blob/master/lab8/rnn.ipynb\" target=\"_parent\"><img src=\"https://colab.research.google.com/assets/colab-badge.svg\" alt=\"Open In Colab\"/></a>"
   ]
  },
  {
   "cell_type": "markdown",
   "metadata": {
    "id": "gS1IIAS-bcb-"
   },
   "source": [
    "# Learning from Sequences: Timeseries and Text\n",
    "\n",
    "Created by Dr Ana Matran-Fernandez (amatra@essex.ac.uk) for CE888 (Data Science and Decision Making)\n",
    "\n",
    "This notebook accompanies lecture 8 and illustrates recurrent neural networks on an example of a timeseries (predicting tomorrow's temperature) and a classification problem on the IMDB text dataset."
   ]
  },
  {
   "cell_type": "markdown",
   "metadata": {
    "id": "0myiQp20cxRK"
   },
   "source": [
    "# Imports"
   ]
  },
  {
   "cell_type": "code",
   "execution_count": 1,
   "metadata": {
    "id": "1J0bYBQ7_a0L"
   },
   "outputs": [],
   "source": [
    "# imports\n",
    "import numpy as np\n",
    "import matplotlib.pyplot as plt\n",
    "import os\n",
    "import pandas as pd\n",
    "from sklearn.model_selection import train_test_split"
   ]
  },
  {
   "cell_type": "code",
   "execution_count": 2,
   "metadata": {
    "id": "U0NPDv7X_a0M"
   },
   "outputs": [],
   "source": [
    "# tensorflow imports\n",
    "from tensorflow import keras\n",
    "from keras import layers, models\n",
    "from keras.callbacks import EarlyStopping, ModelCheckpoint"
   ]
  },
  {
   "cell_type": "markdown",
   "metadata": {
    "id": "xaiw_VZjbtSH"
   },
   "source": [
    "# Timeseries"
   ]
  },
  {
   "cell_type": "code",
   "execution_count": 3,
   "metadata": {
    "colab": {
     "base_uri": "https://localhost:8080/",
     "height": 424
    },
    "id": "iA_R1Q-K_a0N",
    "outputId": "94162d66-4d0a-4f95-9cd8-3e94c4623704"
   },
   "outputs": [
    {
     "data": {
      "text/html": [
       "<div>\n",
       "<style scoped>\n",
       "    .dataframe tbody tr th:only-of-type {\n",
       "        vertical-align: middle;\n",
       "    }\n",
       "\n",
       "    .dataframe tbody tr th {\n",
       "        vertical-align: top;\n",
       "    }\n",
       "\n",
       "    .dataframe thead th {\n",
       "        text-align: right;\n",
       "    }\n",
       "</style>\n",
       "<table border=\"1\" class=\"dataframe\">\n",
       "  <thead>\n",
       "    <tr style=\"text-align: right;\">\n",
       "      <th></th>\n",
       "      <th>date</th>\n",
       "      <th>radiation_avg</th>\n",
       "      <th>precip</th>\n",
       "      <th>wind_avg</th>\n",
       "      <th>wind_max</th>\n",
       "      <th>temp_avg</th>\n",
       "      <th>humidity_avg</th>\n",
       "    </tr>\n",
       "  </thead>\n",
       "  <tbody>\n",
       "    <tr>\n",
       "      <th>0</th>\n",
       "      <td>14/05/2014 00:00</td>\n",
       "      <td>159</td>\n",
       "      <td>0.0</td>\n",
       "      <td>1.4</td>\n",
       "      <td>3.3</td>\n",
       "      <td>14.27</td>\n",
       "      <td>64.95</td>\n",
       "    </tr>\n",
       "    <tr>\n",
       "      <th>1</th>\n",
       "      <td>15/05/2014 00:00</td>\n",
       "      <td>280</td>\n",
       "      <td>0.0</td>\n",
       "      <td>0.6</td>\n",
       "      <td>2.3</td>\n",
       "      <td>13.51</td>\n",
       "      <td>72.91</td>\n",
       "    </tr>\n",
       "    <tr>\n",
       "      <th>2</th>\n",
       "      <td>16/05/2014 00:00</td>\n",
       "      <td>186</td>\n",
       "      <td>3.4</td>\n",
       "      <td>0.8</td>\n",
       "      <td>2.7</td>\n",
       "      <td>15.65</td>\n",
       "      <td>74.69</td>\n",
       "    </tr>\n",
       "    <tr>\n",
       "      <th>3</th>\n",
       "      <td>17/05/2014 00:00</td>\n",
       "      <td>221</td>\n",
       "      <td>0.0</td>\n",
       "      <td>1.0</td>\n",
       "      <td>3.3</td>\n",
       "      <td>17.46</td>\n",
       "      <td>71.42</td>\n",
       "    </tr>\n",
       "    <tr>\n",
       "      <th>4</th>\n",
       "      <td>18/05/2014 00:00</td>\n",
       "      <td>255</td>\n",
       "      <td>0.0</td>\n",
       "      <td>2.1</td>\n",
       "      <td>5.5</td>\n",
       "      <td>16.85</td>\n",
       "      <td>74.45</td>\n",
       "    </tr>\n",
       "    <tr>\n",
       "      <th>...</th>\n",
       "      <td>...</td>\n",
       "      <td>...</td>\n",
       "      <td>...</td>\n",
       "      <td>...</td>\n",
       "      <td>...</td>\n",
       "      <td>...</td>\n",
       "      <td>...</td>\n",
       "    </tr>\n",
       "    <tr>\n",
       "      <th>2551</th>\n",
       "      <td>17/05/2021 00:00</td>\n",
       "      <td>196</td>\n",
       "      <td>1.4</td>\n",
       "      <td>2.2</td>\n",
       "      <td>5.5</td>\n",
       "      <td>10.51</td>\n",
       "      <td>99.86</td>\n",
       "    </tr>\n",
       "    <tr>\n",
       "      <th>2552</th>\n",
       "      <td>17/05/2021 00:00</td>\n",
       "      <td>173</td>\n",
       "      <td>2.8</td>\n",
       "      <td>1.8</td>\n",
       "      <td>5.5</td>\n",
       "      <td>10.80</td>\n",
       "      <td>99.86</td>\n",
       "    </tr>\n",
       "    <tr>\n",
       "      <th>2553</th>\n",
       "      <td>18/05/2021 00:00</td>\n",
       "      <td>311</td>\n",
       "      <td>0.0</td>\n",
       "      <td>1.4</td>\n",
       "      <td>5.0</td>\n",
       "      <td>10.29</td>\n",
       "      <td>92.94</td>\n",
       "    </tr>\n",
       "    <tr>\n",
       "      <th>2554</th>\n",
       "      <td>19/05/2021 00:00</td>\n",
       "      <td>232</td>\n",
       "      <td>6.6</td>\n",
       "      <td>1.8</td>\n",
       "      <td>5.5</td>\n",
       "      <td>11.39</td>\n",
       "      <td>90.32</td>\n",
       "    </tr>\n",
       "    <tr>\n",
       "      <th>2555</th>\n",
       "      <td>20/05/2021 00:00</td>\n",
       "      <td>44</td>\n",
       "      <td>0.0</td>\n",
       "      <td>0.5</td>\n",
       "      <td>2.7</td>\n",
       "      <td>6.35</td>\n",
       "      <td>99.86</td>\n",
       "    </tr>\n",
       "  </tbody>\n",
       "</table>\n",
       "<p>2556 rows × 7 columns</p>\n",
       "</div>"
      ],
      "text/plain": [
       "                  date  radiation_avg  precip  wind_avg  wind_max  temp_avg  \\\n",
       "0     14/05/2014 00:00            159     0.0       1.4       3.3     14.27   \n",
       "1     15/05/2014 00:00            280     0.0       0.6       2.3     13.51   \n",
       "2     16/05/2014 00:00            186     3.4       0.8       2.7     15.65   \n",
       "3     17/05/2014 00:00            221     0.0       1.0       3.3     17.46   \n",
       "4     18/05/2014 00:00            255     0.0       2.1       5.5     16.85   \n",
       "...                ...            ...     ...       ...       ...       ...   \n",
       "2551  17/05/2021 00:00            196     1.4       2.2       5.5     10.51   \n",
       "2552  17/05/2021 00:00            173     2.8       1.8       5.5     10.80   \n",
       "2553  18/05/2021 00:00            311     0.0       1.4       5.0     10.29   \n",
       "2554  19/05/2021 00:00            232     6.6       1.8       5.5     11.39   \n",
       "2555  20/05/2021 00:00             44     0.0       0.5       2.7      6.35   \n",
       "\n",
       "      humidity_avg  \n",
       "0            64.95  \n",
       "1            72.91  \n",
       "2            74.69  \n",
       "3            71.42  \n",
       "4            74.45  \n",
       "...            ...  \n",
       "2551         99.86  \n",
       "2552         99.86  \n",
       "2553         92.94  \n",
       "2554         90.32  \n",
       "2555         99.86  \n",
       "\n",
       "[2556 rows x 7 columns]"
      ]
     },
     "execution_count": 3,
     "metadata": {},
     "output_type": "execute_result"
    }
   ],
   "source": [
    "df = pd.read_csv('weather.csv')\n",
    "df.drop(['temp_max', 'temp_min'], axis=1, inplace=True)\n",
    "df"
   ]
  },
  {
   "cell_type": "code",
   "execution_count": 5,
   "metadata": {
    "colab": {
     "base_uri": "https://localhost:8080/",
     "height": 279
    },
    "id": "nzsytNAh_a0N",
    "outputId": "fd5d1d32-d135-4784-ed4e-87897d4a5104"
   },
   "outputs": [
    {
     "data": {
      "image/png": "[encoded data removed]",
      "text/plain": [
       "<Figure size 432x288 with 1 Axes>"
      ]
     },
     "metadata": {
      "needs_background": "light"
     },
     "output_type": "display_data"
    }
   ],
   "source": [
    "plt.plot(range(len(df)), df['temp_avg'])\n",
    "plt.xlabel('Temporal range')\n",
    "plt.ylabel('Average temperature (C) (7 years)')\n",
    "plt.savefig('temperature_over_time.pdf', bbox_inches='tight')"
   ]
  },
  {
   "cell_type": "code",
   "execution_count": 6,
   "metadata": {
    "colab": {
     "base_uri": "https://localhost:8080/",
     "height": 279
    },
    "id": "ysbM2n99_a0N",
    "outputId": "e83eb333-eb41-43a6-aed4-d467dd53a0ed"
   },
   "outputs": [
    {
     "data": {
      "image/png": "[encoded data removed]",
      "text/plain": [
       "<Figure size 432x288 with 1 Axes>"
      ]
     },
     "metadata": {
      "needs_background": "light"
     },
     "output_type": "display_data"
    }
   ],
   "source": [
    "# Look at the first 2 years\n",
    "length = 2*365\n",
    "plt.plot(range(length), df['temp_avg'][:length])\n",
    "plt.xlabel('Temporal range')\n",
    "plt.ylabel('Average temperature (C) (2 years)')\n",
    "plt.savefig('temperature_over_time_2y.pdf', bbox_inches='tight')"
   ]
  },
  {
   "cell_type": "markdown",
   "metadata": {
    "id": "ikyqi2m7_a0O"
   },
   "source": [
    "We have clear periodicity every year. In the previous plot we saw 7 cycles (7 years). Here we see 2.\n",
    "\n",
    "Always look for periodicity in your timeseries. There will always be daily and yearly cycles. Check these patterns.\n",
    "\n",
    "Another issue with timeseries is dividing the dataset into train/validation/test sets. We definitely cannot shuffle the data, and we need to be very careful with data leakage (using data from the future)."
   ]
  },
  {
   "cell_type": "markdown",
   "metadata": {
    "id": "1fxuW2ne_a0P"
   },
   "source": [
    "## Data prep\n",
    "\n",
    "We'll try to predict the average temperature of tomorrow based on data from the past.\n",
    "\n",
    "To avoid data leakage, we're going to use a simple approach: use the first 50% of data for training, the next 30% for validation, and the final 20% for testing.\n"
   ]
  },
  {
   "cell_type": "code",
   "execution_count": 7,
   "metadata": {
    "colab": {
     "base_uri": "https://localhost:8080/"
    },
    "id": "vofGsYen_a0P",
    "outputId": "d9c3740f-5cc9-410c-db5b-0e5de780084f"
   },
   "outputs": [
    {
     "name": "stdout",
     "output_type": "stream",
     "text": [
      "Samples for training: 1278; validation: 766; test: 512\n"
     ]
    }
   ],
   "source": [
    "n_tr, n_val = int(0.5*len(df)), int(0.3*len(df))\n",
    "n_te = len(df) - n_tr - n_val\n",
    "print('Samples for training: %d; validation: %d; test: %d' % (n_tr, n_val, n_te))"
   ]
  },
  {
   "cell_type": "code",
   "execution_count": 8,
   "metadata": {
    "colab": {
     "base_uri": "https://localhost:8080/"
    },
    "id": "lsMDT2Jq_a0P",
    "outputId": "40daccd3-273c-4909-818c-09a40b155929"
   },
   "outputs": [
    {
     "name": "stdout",
     "output_type": "stream",
     "text": [
      "(2556, 6)\n"
     ]
    }
   ],
   "source": [
    "# Get the data from the dataframe (dropping date column)\n",
    "data = df.iloc[:, 1:].values\n",
    "print(data.shape)\n",
    "assert data.shape[0] == len(df)\n",
    "assert data.shape[1] == len(df.columns)-1, \"Are you sure you're dropping the date?\"\n",
    "# We need to normalise our time series. Calculate mean and std from TRAINING DATA ONLY. \n",
    "# We'll use it on the validation and test sets.\n",
    "mean_tr = data[:n_tr, :].mean(axis=0)\n",
    "std_tr = data[:n_tr, :].std(axis=0)\n",
    "data = (data - mean_tr) / std_tr\n",
    "\n",
    "\n",
    "y = df['temp_avg'].values.reshape(-1, 1)\n",
    "\n",
    "# index of the column that contains the avg_temp\n",
    "y_idx = 4"
   ]
  },
  {
   "cell_type": "code",
   "execution_count": 9,
   "metadata": {
    "colab": {
     "base_uri": "https://localhost:8080/"
    },
    "id": "1VJAcdfICLi1",
    "outputId": "41b330ca-bfad-49b3-ccae-fb22c8411336"
   },
   "outputs": [
    {
     "data": {
      "text/plain": [
       "array([14.27, 13.51, 15.65, 17.46, 16.85, 18.26, 17.35, 15.55, 14.52,\n",
       "       13.93, 11.48, 13.63, 12.81, 12.4 , 13.67, 14.15, 13.22, 12.21,\n",
       "       15.53, 14.52])"
      ]
     },
     "execution_count": 9,
     "metadata": {},
     "output_type": "execute_result"
    }
   ],
   "source": [
    "data[:20, y_idx] * std_tr[y_idx] + mean_tr[y_idx]"
   ]
  },
  {
   "cell_type": "code",
   "execution_count": 10,
   "metadata": {
    "colab": {
     "base_uri": "https://localhost:8080/"
    },
    "id": "xN-YJyEeCUv9",
    "outputId": "9cf43612-c0f3-4864-f113-a9a5531e0904"
   },
   "outputs": [
    {
     "data": {
      "text/plain": [
       "array([[18.26],\n",
       "       [17.35],\n",
       "       [15.55],\n",
       "       [14.52],\n",
       "       [13.93],\n",
       "       [11.48],\n",
       "       [13.63],\n",
       "       [12.81],\n",
       "       [12.4 ],\n",
       "       [13.67],\n",
       "       [14.15],\n",
       "       [13.22],\n",
       "       [12.21],\n",
       "       [15.53],\n",
       "       [14.52],\n",
       "       [15.35],\n",
       "       [12.29],\n",
       "       [13.88],\n",
       "       [15.13],\n",
       "       [17.29]])"
      ]
     },
     "execution_count": 10,
     "metadata": {},
     "output_type": "execute_result"
    }
   ],
   "source": [
    "y[5:25]"
   ]
  },
  {
   "cell_type": "code",
   "execution_count": 11,
   "metadata": {
    "id": "K_JGeiAs_a0Q"
   },
   "outputs": [],
   "source": [
    "# We'll use a Dataset from keras to pass our data\n",
    "sampling_rate = 1  # we keep all data points\n",
    "sequence_length = 14  # 2 weeks to predict tomorrow's temperature\n",
    "delay = sampling_rate * sequence_length  # the target is the day after the end of the sequence\n",
    "batch_size = 16"
   ]
  },
  {
   "cell_type": "code",
   "execution_count": 14,
   "metadata": {
    "colab": {
     "base_uri": "https://localhost:8080/"
    },
    "id": "cRDGWNYl_a0Q",
    "outputId": "126b8150-1e10-4f4d-afd1-0666658a6796"
   },
   "outputs": [
    {
     "name": "stdout",
     "output_type": "stream",
     "text": [
      "X shape: (16, 14, 6)\n",
      "target shape: (16, 1)\n"
     ]
    }
   ],
   "source": [
    "train_dataset = keras.utils.timeseries_dataset_from_array(\n",
    "    data[:-delay],\n",
    "    targets=y[delay:],\n",
    "    sampling_rate=sampling_rate, sequence_length=sequence_length,\n",
    "    batch_size=batch_size,\n",
    "    start_index=0, end_index=n_tr  # first 50% for training\n",
    "    )\n",
    "\n",
    "val_dataset = keras.utils.timeseries_dataset_from_array(\n",
    "    data[:-delay],\n",
    "    targets=y[delay:],\n",
    "    sampling_rate=sampling_rate, sequence_length=sequence_length,\n",
    "    batch_size=batch_size,\n",
    "    start_index=n_tr, end_index=n_tr+n_val  # 50%-80% for validation\n",
    "    )\n",
    "\n",
    "test_dataset = keras.utils.timeseries_dataset_from_array(\n",
    "    data[:-delay],\n",
    "    targets=y[delay:],\n",
    "    sampling_rate=sampling_rate, sequence_length=sequence_length,\n",
    "    batch_size=batch_size,\n",
    "    start_index=n_tr+n_val  # last 20% for test\n",
    "    )\n",
    "\n",
    "for X, target in train_dataset:\n",
    "    print(\"X shape:\", X.shape)\n",
    "    print(\"target shape:\", target.shape)\n",
    "    #print(X[:, :, y_idx] * std_tr[y_idx] + mean_tr[y_idx])\n",
    "    #print(target)\n",
    "    break  # so we only print once"
   ]
  },
  {
   "cell_type": "code",
   "execution_count": 15,
   "metadata": {
    "id": "u_v2rAW_W4kQ"
   },
   "outputs": [],
   "source": [
    "# Function to plot history with neural networks\n",
    "def plot_hist_regression(hist, y):\n",
    "  n_ = len(hist.history['mae'])\n",
    "  plt.plot(range(1, n_+1), 100*np.asarray(hist.history['mae']), 'bo', label='MAE on training set')\n",
    "  plt.plot(range(1, n_+1), 100*np.asarray(hist.history['val_mae']), 'b', label='MAE on validation set')\n",
    "  plt.legend()\n",
    "  plt.xlabel(\"Epoch\") \n",
    "  plt.ylabel(\"MAE (degrees)\")\n",
    "  plt.ylim(0, 100)\n",
    "  plt.axhline(y=y)\n",
    "  plt.show()\n"
   ]
  },
  {
   "cell_type": "markdown",
   "metadata": {
    "id": "WlhjIvZR_a0Q"
   },
   "source": [
    "## Establishing a baseline\n"
   ]
  },
  {
   "cell_type": "markdown",
   "metadata": {
    "id": "rloJamyvWPWj"
   },
   "source": [
    "### Common sense, no ML baseline\n",
    "\n",
    "- Sanity check\n",
    "- To establish whether ML methods are actually any good\n",
    "\n",
    "Tomorrow's temperature is likely to be close to today's: let's predict that the temperature 24 hours from now will be equal to the temperature right now.\n",
    "\n",
    "We'll use the MAE as metric"
   ]
  },
  {
   "cell_type": "code",
   "execution_count": 16,
   "metadata": {
    "colab": {
     "base_uri": "https://localhost:8080/"
    },
    "id": "MUY5acIf_a0Q",
    "outputId": "dcdc5e72-a117-43ca-c7f5-7c31437c7444"
   },
   "outputs": [
    {
     "name": "stdout",
     "output_type": "stream",
     "text": [
      "MAE on train set = 2.56 (degrees Celsius)\n",
      "MAE on validation set = 2.69 (degrees Celsius)\n",
      "MAE on test set = 2.85 (degrees Celsius)\n"
     ]
    }
   ],
   "source": [
    "def naive_method(dataset, mean, std):\n",
    "    error = 0\n",
    "    samples = 0\n",
    "    count = 0\n",
    "    for X, target in dataset:\n",
    "        pred = X[:, -1, y_idx] * std + mean  # predict last available temperature and un-standardise\n",
    "        #print(X.shape, target.shape, pred.shape)  # [batch_size, sequence_length, n_feats]\n",
    "        #print(X[:, -1, y_idx] * std + mean, target)\n",
    "        error += np.sum(np.abs(pred - target))\n",
    "        samples += X.shape[0]  # batch_size\n",
    "        count += 1\n",
    "    return error / samples / batch_size # average\n",
    "\n",
    "\n",
    "print('MAE on train set = %.2f (degrees Celsius)' % naive_method(train_dataset, mean_tr[y_idx], std_tr[y_idx]))\n",
    "print('MAE on validation set = %.2f (degrees Celsius)' % naive_method(val_dataset, mean_tr[y_idx], std_tr[y_idx]))\n",
    "print('MAE on test set = %.2f (degrees Celsius)' % naive_method(test_dataset, mean_tr[y_idx], std_tr[y_idx]))\n",
    "# Save MAE on validation for later\n",
    "baseline = naive_method(val_dataset, mean_tr[y_idx], std_tr[y_idx])"
   ]
  },
  {
   "cell_type": "markdown",
   "metadata": {
    "id": "znycUtxiJmAF"
   },
   "source": [
    "This baseline achieves a validation MAE of 2.69 degrees and a test MAE of 2.85 degrees. So if we assume that tomorrow's temperature will be the same as today's, we'll be off by less than 3 degrees on average.\n",
    "\n",
    "Not too bad, but surely we can do better!"
   ]
  },
  {
   "cell_type": "markdown",
   "metadata": {
    "id": "7c-duA1Z_a0R"
   },
   "source": [
    "### Simple ML baseline\n",
    "\n",
    "\n"
   ]
  },
  {
   "cell_type": "code",
   "execution_count": 17,
   "metadata": {
    "colab": {
     "base_uri": "https://localhost:8080/"
    },
    "id": "fWGqpICHJlRe",
    "outputId": "23ab2130-e029-42ac-95ae-a1174fb801d5"
   },
   "outputs": [
    {
     "name": "stdout",
     "output_type": "stream",
     "text": [
      "Model: \"sequential\"\n",
      "_________________________________________________________________\n",
      "Layer (type)                 Output Shape              Param #   \n",
      "=================================================================\n",
      "flatten (Flatten)            (None, 84)                0         \n",
      "_________________________________________________________________\n",
      "dense (Dense)                (None, 10)                850       \n",
      "_________________________________________________________________\n",
      "dense_1 (Dense)              (None, 1)                 11        \n",
      "=================================================================\n",
      "Total params: 861\n",
      "Trainable params: 861\n",
      "Non-trainable params: 0\n",
      "_________________________________________________________________\n"
     ]
    }
   ],
   "source": [
    "# To get some practice with neural networks, we'll try a 1-layer NN with nothing fancy.\n",
    "\n",
    "model_dense = models.Sequential()\n",
    "model_dense.add(layers.Flatten(input_shape=(sequence_length, len(df.columns)-1)))  # we need to specify the input shape or we won't be able to see the summary\n",
    "model_dense.add(layers.Dense(10, activation='relu'))\n",
    "model_dense.add(layers.Dense(1))\n",
    "\n",
    "model_dense.summary()"
   ]
  },
  {
   "cell_type": "code",
   "execution_count": 20,
   "metadata": {
    "colab": {
     "base_uri": "https://localhost:8080/"
    },
    "id": "p0Hz1rX8LMfT",
    "outputId": "e9674789-48af-4682-f7fa-aec2fc10cb4a"
   },
   "outputs": [
    {
     "name": "stdout",
     "output_type": "stream",
     "text": [
      "Epoch 1/20\n",
      "80/80 [==============================] - 0s 2ms/step - loss: 91.5391 - mae: 8.5914 - val_loss: 71.0681 - val_mae: 7.5361\n",
      "Epoch 2/20\n",
      "80/80 [==============================] - 0s 1ms/step - loss: 55.1923 - mae: 6.5588 - val_loss: 43.6439 - val_mae: 5.6409\n",
      "Epoch 3/20\n",
      "80/80 [==============================] - 0s 1ms/step - loss: 37.0555 - mae: 5.0984 - val_loss: 31.9079 - val_mae: 4.6525\n",
      "Epoch 4/20\n",
      "80/80 [==============================] - 0s 1ms/step - loss: 30.0318 - mae: 4.5047 - val_loss: 26.5449 - val_mae: 4.1542\n",
      "Epoch 5/20\n",
      "80/80 [==============================] - 0s 928us/step - loss: 25.9852 - mae: 4.1675 - val_loss: 23.7210 - val_mae: 3.8908\n",
      "Epoch 6/20\n",
      "80/80 [==============================] - 0s 1ms/step - loss: 23.2195 - mae: 3.9246 - val_loss: 21.8253 - val_mae: 3.7218\n",
      "Epoch 7/20\n",
      "80/80 [==============================] - 0s 961us/step - loss: 21.0663 - mae: 3.7337 - val_loss: 20.2340 - val_mae: 3.5855\n",
      "Epoch 8/20\n",
      "80/80 [==============================] - 0s 2ms/step - loss: 19.3021 - mae: 3.5774 - val_loss: 18.8736 - val_mae: 3.4692\n",
      "Epoch 9/20\n",
      "80/80 [==============================] - 0s 1ms/step - loss: 17.8080 - mae: 3.4370 - val_loss: 17.6553 - val_mae: 3.3581\n",
      "Epoch 10/20\n",
      "80/80 [==============================] - 0s 916us/step - loss: 16.4981 - mae: 3.3059 - val_loss: 16.6115 - val_mae: 3.2613\n",
      "Epoch 11/20\n",
      "80/80 [==============================] - 0s 1ms/step - loss: 15.3885 - mae: 3.1899 - val_loss: 15.7184 - val_mae: 3.1750\n",
      "Epoch 12/20\n",
      "80/80 [==============================] - 0s 1ms/step - loss: 14.4682 - mae: 3.0900 - val_loss: 14.9294 - val_mae: 3.0970\n",
      "Epoch 13/20\n",
      "80/80 [==============================] - 0s 1ms/step - loss: 13.6747 - mae: 3.0002 - val_loss: 14.2445 - val_mae: 3.0228\n",
      "Epoch 14/20\n",
      "80/80 [==============================] - 0s 887us/step - loss: 12.9953 - mae: 2.9183 - val_loss: 13.6621 - val_mae: 2.9624\n",
      "Epoch 15/20\n",
      "80/80 [==============================] - 0s 1ms/step - loss: 12.3995 - mae: 2.8431 - val_loss: 13.1660 - val_mae: 2.9099\n",
      "Epoch 16/20\n",
      "80/80 [==============================] - 0s 1ms/step - loss: 11.8855 - mae: 2.7762 - val_loss: 12.7691 - val_mae: 2.8657\n",
      "Epoch 17/20\n",
      "80/80 [==============================] - 0s 1ms/step - loss: 11.4214 - mae: 2.7163 - val_loss: 12.4331 - val_mae: 2.8262\n",
      "Epoch 18/20\n",
      "80/80 [==============================] - 0s 1ms/step - loss: 10.9926 - mae: 2.6603 - val_loss: 12.1317 - val_mae: 2.7879\n",
      "Epoch 19/20\n",
      "80/80 [==============================] - 0s 881us/step - loss: 10.5921 - mae: 2.6064 - val_loss: 11.8511 - val_mae: 2.7489\n",
      "Epoch 20/20\n",
      "80/80 [==============================] - 0s 886us/step - loss: 10.2285 - mae: 2.5578 - val_loss: 11.6095 - val_mae: 2.7139\n"
     ]
    }
   ],
   "source": [
    "n_epochs = 20\n",
    "\n",
    "model_dense.compile(optimizer='rmsprop', loss='mse', metrics=['mae'])\n",
    "history_dense = model_dense.fit(train_dataset, epochs=n_epochs, validation_data=val_dataset)"
   ]
  },
  {
   "cell_type": "code",
   "execution_count": 22,
   "metadata": {
    "colab": {
     "base_uri": "https://localhost:8080/",
     "height": 283
    },
    "id": "aBRYn-AKMCi4",
    "outputId": "7c1891b1-da33-4052-e71b-e0876c7bdbca"
   },
   "outputs": [
    {
     "data": {
      "image/png": "[encoded data removed]",
      "text/plain": [
       "<Figure size 432x288 with 1 Axes>"
      ]
     },
     "metadata": {
      "needs_background": "light"
     },
     "output_type": "display_data"
    }
   ],
   "source": [
    "# Plot MAE cures for validation and training\n",
    "plot_hist_regression(history_dense, baseline)"
   ]
  },
  {
   "cell_type": "markdown",
   "metadata": {
    "id": "1EJywOA5NJa9"
   },
   "source": [
    "Validation loss is worse than what we had with our common-sense baseline, and we're already overfitting (MAE on training set is lower than on validation set). It turns out our previous baseline is not as easy to outperform as we thought!\n",
    "\n",
    "Remember our 'hypothesis space'? Using 2 Dense layers doesn't seem to be very useful in this case. We need other types of layers for this problem."
   ]
  },
  {
   "cell_type": "code",
   "execution_count": 23,
   "metadata": {
    "colab": {
     "base_uri": "https://localhost:8080/"
    },
    "id": "k6PADykQPIjq",
    "outputId": "0c3d48b1-f910-4648-d08e-e6147fc3b5b6"
   },
   "outputs": [
    {
     "name": "stdout",
     "output_type": "stream",
     "text": [
      "Model: \"sequential_1\"\n",
      "_________________________________________________________________\n",
      "Layer (type)                 Output Shape              Param #   \n",
      "=================================================================\n",
      "conv1d (Conv1D)              (None, 8, 8)              344       \n",
      "_________________________________________________________________\n",
      "max_pooling1d (MaxPooling1D) (None, 4, 8)              0         \n",
      "_________________________________________________________________\n",
      "conv1d_1 (Conv1D)            (None, 2, 8)              200       \n",
      "_________________________________________________________________\n",
      "max_pooling1d_1 (MaxPooling1 (None, 1, 8)              0         \n",
      "_________________________________________________________________\n",
      "global_average_pooling1d (Gl (None, 8)                 0         \n",
      "_________________________________________________________________\n",
      "dense_2 (Dense)              (None, 1)                 9         \n",
      "=================================================================\n",
      "Total params: 553\n",
      "Trainable params: 553\n",
      "Non-trainable params: 0\n",
      "_________________________________________________________________\n"
     ]
    }
   ],
   "source": [
    "# We know that CNNs take advantage of neighbouring values, so why don't we try that?\n",
    "\n",
    "# In addition to the Conv2D layers we saw last week, there are Conv1D and Conv3D layers. \n",
    "# Conv1D layers rely on 1D windows that slide across an input sequence (imagine a 1D image)\n",
    "\n",
    "model_cnn = models.Sequential()\n",
    "model_cnn.add(layers.Conv1D(8, 7, activation='relu', input_shape=(sequence_length, len(df.columns)-1)))\n",
    "model_cnn.add(layers.MaxPooling1D(2))\n",
    "model_cnn.add(layers.Conv1D(8, 3, activation='relu'))\n",
    "model_cnn.add(layers.MaxPooling1D(2))\n",
    "model_cnn.add(layers.GlobalAveragePooling1D())\n",
    "model_cnn.add(layers.Dense(1))\n",
    "\n",
    "model_cnn.summary()"
   ]
  },
  {
   "cell_type": "code",
   "execution_count": 24,
   "metadata": {
    "colab": {
     "base_uri": "https://localhost:8080/"
    },
    "id": "PSGRJSulQs22",
    "outputId": "44faf343-33d6-44d4-8d70-2ae98c010db0"
   },
   "outputs": [
    {
     "name": "stdout",
     "output_type": "stream",
     "text": [
      "Epoch 1/20\n",
      "80/80 [==============================] - 0s 2ms/step - loss: 99.7589 - mae: 8.7287 - val_loss: 73.3818 - val_mae: 7.4061\n",
      "Epoch 2/20\n",
      "80/80 [==============================] - 0s 1ms/step - loss: 38.3590 - mae: 5.2728 - val_loss: 25.5310 - val_mae: 4.0699\n",
      "Epoch 3/20\n",
      "80/80 [==============================] - 0s 1ms/step - loss: 20.1213 - mae: 3.6110 - val_loss: 19.9513 - val_mae: 3.4101\n",
      "Epoch 4/20\n",
      "80/80 [==============================] - 0s 1ms/step - loss: 17.2755 - mae: 3.3356 - val_loss: 18.6390 - val_mae: 3.1943\n",
      "Epoch 5/20\n",
      "80/80 [==============================] - 0s 1ms/step - loss: 15.5735 - mae: 3.1603 - val_loss: 17.7884 - val_mae: 3.0819\n",
      "Epoch 6/20\n",
      "80/80 [==============================] - 0s 1ms/step - loss: 14.3253 - mae: 3.0216 - val_loss: 17.0493 - val_mae: 3.0112\n",
      "Epoch 7/20\n",
      "80/80 [==============================] - 0s 1ms/step - loss: 13.3923 - mae: 2.9222 - val_loss: 16.3786 - val_mae: 2.9580\n",
      "Epoch 8/20\n",
      "80/80 [==============================] - 0s 1ms/step - loss: 12.6814 - mae: 2.8463 - val_loss: 15.8364 - val_mae: 2.9229\n",
      "Epoch 9/20\n",
      "80/80 [==============================] - 0s 2ms/step - loss: 12.1464 - mae: 2.7865 - val_loss: 15.3507 - val_mae: 2.8975\n",
      "Epoch 10/20\n",
      "80/80 [==============================] - 0s 1ms/step - loss: 11.7257 - mae: 2.7357 - val_loss: 14.9274 - val_mae: 2.8756\n",
      "Epoch 11/20\n",
      "80/80 [==============================] - 0s 979us/step - loss: 11.3756 - mae: 2.6936 - val_loss: 14.5910 - val_mae: 2.8570\n",
      "Epoch 12/20\n",
      "80/80 [==============================] - 0s 975us/step - loss: 11.0597 - mae: 2.6567 - val_loss: 14.2771 - val_mae: 2.8386\n",
      "Epoch 13/20\n",
      "80/80 [==============================] - 0s 1ms/step - loss: 10.7629 - mae: 2.6216 - val_loss: 13.9816 - val_mae: 2.8199\n",
      "Epoch 14/20\n",
      "80/80 [==============================] - 0s 1ms/step - loss: 10.4852 - mae: 2.5889 - val_loss: 13.7122 - val_mae: 2.8020\n",
      "Epoch 15/20\n",
      "80/80 [==============================] - 0s 1ms/step - loss: 10.2234 - mae: 2.5575 - val_loss: 13.4911 - val_mae: 2.7871\n",
      "Epoch 16/20\n",
      "80/80 [==============================] - 0s 990us/step - loss: 9.9868 - mae: 2.5285 - val_loss: 13.3234 - val_mae: 2.7752\n",
      "Epoch 17/20\n",
      "80/80 [==============================] - 0s 1ms/step - loss: 9.7672 - mae: 2.5016 - val_loss: 13.1545 - val_mae: 2.7620\n",
      "Epoch 18/20\n",
      "80/80 [==============================] - 0s 968us/step - loss: 9.5718 - mae: 2.4768 - val_loss: 13.0340 - val_mae: 2.7500\n",
      "Epoch 19/20\n",
      "80/80 [==============================] - 0s 1ms/step - loss: 9.4055 - mae: 2.4553 - val_loss: 12.8867 - val_mae: 2.7361\n",
      "Epoch 20/20\n",
      "80/80 [==============================] - 0s 987us/step - loss: 9.2380 - mae: 2.4346 - val_loss: 12.7811 - val_mae: 2.7239\n"
     ]
    }
   ],
   "source": [
    "model_cnn.compile(optimizer='rmsprop', loss='mse', metrics=['mae'])\n",
    "history_cnn = model_cnn.fit(train_dataset, epochs=n_epochs,\n",
    "                            validation_data=val_dataset)"
   ]
  },
  {
   "cell_type": "code",
   "execution_count": 25,
   "metadata": {
    "colab": {
     "base_uri": "https://localhost:8080/",
     "height": 279
    },
    "id": "6bB6lzLYSG-u",
    "outputId": "8062cd61-ad7a-45a8-c123-048505f8985e"
   },
   "outputs": [
    {
     "data": {
      "image/png": "[encoded data removed]",
      "text/plain": [
       "<Figure size 432x288 with 1 Axes>"
      ]
     },
     "metadata": {
      "needs_background": "light"
     },
     "output_type": "display_data"
    }
   ],
   "source": [
    "# Plot MAE cures for validation and training\n",
    "plot_hist_regression(history_cnn, baseline)"
   ]
  },
  {
   "cell_type": "markdown",
   "metadata": {
    "id": "Kc2iMPSHViL1"
   },
   "source": [
    "This model isn't any better, with a validation MAE of 2.77 degrees (also worse than the 'common-sense approach' that we tried at first), and we're overfitting a bit too.\n",
    "\n",
    "Why?\n",
    "\n",
    "In timeseries, order matters a lot: the recent past is more informative than data from 5 days ago, and convolutional layers don't take advantage of this fact -- max pooling and global average pooling layers actually destroy this order information."
   ]
  },
  {
   "cell_type": "markdown",
   "metadata": {
    "id": "3ozUAZX__a0R"
   },
   "source": [
    "## Long Short Term Memory (LSTM) Neural Networks\n",
    "\n",
    "\n"
   ]
  },
  {
   "cell_type": "code",
   "execution_count": 26,
   "metadata": {
    "colab": {
     "base_uri": "https://localhost:8080/"
    },
    "id": "2dWfiaUw_a0R",
    "outputId": "dd802c62-1be0-45b4-8d14-1f2a606b0d55"
   },
   "outputs": [
    {
     "name": "stdout",
     "output_type": "stream",
     "text": [
      "Model: \"sequential_2\"\n",
      "_________________________________________________________________\n",
      "Layer (type)                 Output Shape              Param #   \n",
      "=================================================================\n",
      "lstm (LSTM)                  (None, 20)                2160      \n",
      "_________________________________________________________________\n",
      "dense_3 (Dense)              (None, 1)                 21        \n",
      "=================================================================\n",
      "Total params: 2,181\n",
      "Trainable params: 2,181\n",
      "Non-trainable params: 0\n",
      "_________________________________________________________________\n"
     ]
    }
   ],
   "source": [
    "# 1-layer LSTM\n",
    "\n",
    "model_lstm1 = models.Sequential()\n",
    "model_lstm1.add(layers.LSTM(20, input_shape=(sequence_length, len(df.columns)-1)))\n",
    "model_lstm1.add(layers.Dense(1))\n",
    "\n",
    "model_lstm1.summary()"
   ]
  },
  {
   "cell_type": "code",
   "execution_count": null,
   "metadata": {
    "id": "DMst2Mp0R0Xi"
   },
   "outputs": [],
   "source": [
    "n_epochs = 20"
   ]
  },
  {
   "cell_type": "code",
   "execution_count": 28,
   "metadata": {
    "colab": {
     "base_uri": "https://localhost:8080/"
    },
    "id": "Pff2tZQHXb-z",
    "outputId": "7a1028ea-cda1-4359-dfa8-a986de309d50"
   },
   "outputs": [
    {
     "name": "stdout",
     "output_type": "stream",
     "text": [
      "Epoch 1/20\n",
      "80/80 [==============================] - 1s 4ms/step - loss: 137.4798 - mae: 10.5907 - val_loss: 114.9529 - val_mae: 9.5262\n",
      "Epoch 2/20\n",
      "80/80 [==============================] - 0s 3ms/step - loss: 92.1708 - mae: 8.4963 - val_loss: 63.8974 - val_mae: 6.5694\n",
      "Epoch 3/20\n",
      "80/80 [==============================] - 0s 3ms/step - loss: 50.9152 - mae: 5.9222 - val_loss: 40.6591 - val_mae: 4.9999\n",
      "Epoch 4/20\n",
      "80/80 [==============================] - 0s 3ms/step - loss: 34.6041 - mae: 4.8017 - val_loss: 30.6124 - val_mae: 4.3857\n",
      "Epoch 5/20\n",
      "80/80 [==============================] - 0s 3ms/step - loss: 26.2441 - mae: 4.1451 - val_loss: 24.4902 - val_mae: 3.9335\n",
      "Epoch 6/20\n",
      "80/80 [==============================] - 0s 3ms/step - loss: 20.8241 - mae: 3.6804 - val_loss: 20.3736 - val_mae: 3.5979\n",
      "Epoch 7/20\n",
      "80/80 [==============================] - 0s 3ms/step - loss: 17.0181 - mae: 3.3249 - val_loss: 17.3858 - val_mae: 3.3196\n",
      "Epoch 8/20\n",
      "80/80 [==============================] - 0s 3ms/step - loss: 14.2033 - mae: 3.0308 - val_loss: 15.0243 - val_mae: 3.0820\n",
      "Epoch 9/20\n",
      "80/80 [==============================] - 0s 3ms/step - loss: 12.0443 - mae: 2.7796 - val_loss: 13.1418 - val_mae: 2.8876\n",
      "Epoch 10/20\n",
      "80/80 [==============================] - 0s 3ms/step - loss: 10.3829 - mae: 2.5724 - val_loss: 11.6741 - val_mae: 2.7306\n",
      "Epoch 11/20\n",
      "80/80 [==============================] - 0s 3ms/step - loss: 9.1265 - mae: 2.4041 - val_loss: 10.5413 - val_mae: 2.6021\n",
      "Epoch 12/20\n",
      "80/80 [==============================] - 0s 3ms/step - loss: 8.2075 - mae: 2.2790 - val_loss: 9.6834 - val_mae: 2.5007\n",
      "Epoch 13/20\n",
      "80/80 [==============================] - 0s 3ms/step - loss: 7.5491 - mae: 2.1879 - val_loss: 9.0362 - val_mae: 2.4215\n",
      "Epoch 14/20\n",
      "80/80 [==============================] - 0s 3ms/step - loss: 7.0701 - mae: 2.1208 - val_loss: 8.5250 - val_mae: 2.3585\n",
      "Epoch 15/20\n",
      "80/80 [==============================] - 0s 3ms/step - loss: 6.6872 - mae: 2.0652 - val_loss: 8.1025 - val_mae: 2.3037\n",
      "Epoch 16/20\n",
      "80/80 [==============================] - 0s 3ms/step - loss: 6.3754 - mae: 2.0154 - val_loss: 7.7416 - val_mae: 2.2518\n",
      "Epoch 17/20\n",
      "80/80 [==============================] - 0s 3ms/step - loss: 6.0976 - mae: 1.9704 - val_loss: 7.4367 - val_mae: 2.2056\n",
      "Epoch 18/20\n",
      "80/80 [==============================] - 0s 3ms/step - loss: 5.8751 - mae: 1.9330 - val_loss: 7.1661 - val_mae: 2.1624\n",
      "Epoch 19/20\n",
      "80/80 [==============================] - 0s 3ms/step - loss: 5.6632 - mae: 1.8975 - val_loss: 6.9362 - val_mae: 2.1242\n",
      "Epoch 20/20\n",
      "80/80 [==============================] - 0s 3ms/step - loss: 5.4896 - mae: 1.8675 - val_loss: 6.7288 - val_mae: 2.0895\n"
     ]
    }
   ],
   "source": [
    "model_lstm1.compile(optimizer='rmsprop', loss='mse', metrics=['mae'])\n",
    "history_lstm1 = model_lstm1.fit(train_dataset, epochs=n_epochs,\n",
    "                            validation_data=val_dataset)"
   ]
  },
  {
   "cell_type": "raw",
   "metadata": {
    "colab": {
     "base_uri": "https://localhost:8080/",
     "height": 279
    },
    "id": "hr-bgDUvXmvS",
    "outputId": "9462df20-d32e-45db-ed9d-af5786c6ebdd"
   },
   "source": [
    "# Plot MAE cures for validation and training\n",
    "plot_hist_regression(history_lstm1, baseline)\n"
   ]
  },
  {
   "cell_type": "code",
   "execution_count": 29,
   "metadata": {
    "colab": {
     "base_uri": "https://localhost:8080/"
    },
    "id": "0fFZvXXUcQ67",
    "outputId": "8ac06bad-6b70-4bb6-e4f2-964253e5fa03"
   },
   "outputs": [
    {
     "name": "stdout",
     "output_type": "stream",
     "text": [
      "31/31 [==============================] - 0s 887us/step - loss: 7.7323 - mae: 2.1575\n",
      "Test MAE = 2.16 degrees\n"
     ]
    }
   ],
   "source": [
    "print('Test MAE = %.2f degrees' % model_lstm1.evaluate(test_dataset)[1])"
   ]
  },
  {
   "cell_type": "markdown",
   "metadata": {
    "id": "bYSWwI1aXvwL"
   },
   "source": [
    "Success! We finally beat the common-sense baseline! The validation MAE now is 2.12 degrees, and the test MAE is 2.27.\n",
    "\n",
    "Why do LSTM layers work? Let's go back to the slides"
   ]
  },
  {
   "cell_type": "code",
   "execution_count": 30,
   "metadata": {
    "colab": {
     "base_uri": "https://localhost:8080/"
    },
    "id": "acSYakeOcokB",
    "outputId": "2fb126f8-5e20-4748-884a-0ca6b8670f03"
   },
   "outputs": [
    {
     "name": "stdout",
     "output_type": "stream",
     "text": [
      "Model: \"sequential_3\"\n",
      "_________________________________________________________________\n",
      "Layer (type)                 Output Shape              Param #   \n",
      "=================================================================\n",
      "lstm_1 (LSTM)                (None, 20)                2160      \n",
      "_________________________________________________________________\n",
      "dropout (Dropout)            (None, 20)                0         \n",
      "_________________________________________________________________\n",
      "dense_4 (Dense)              (None, 1)                 21        \n",
      "=================================================================\n",
      "Total params: 2,181\n",
      "Trainable params: 2,181\n",
      "Non-trainable params: 0\n",
      "_________________________________________________________________\n"
     ]
    }
   ],
   "source": [
    "# Adding dropout\n",
    "\n",
    "model_lstm2 = models.Sequential()\n",
    "model_lstm2.add(layers.LSTM(20, input_shape=(sequence_length, len(df.columns)-1), recurrent_dropout=0.25))\n",
    "model_lstm2.add(layers.Dropout(0.4))\n",
    "model_lstm2.add(layers.Dense(1))\n",
    "\n",
    "model_lstm2.summary()"
   ]
  },
  {
   "cell_type": "code",
   "execution_count": 31,
   "metadata": {
    "colab": {
     "base_uri": "https://localhost:8080/"
    },
    "id": "LvRnf9TWSWf9",
    "outputId": "af247ccc-7255-4ca4-b8db-192913fc835a"
   },
   "outputs": [
    {
     "name": "stdout",
     "output_type": "stream",
     "text": [
      "Epoch 1/20\n",
      "80/80 [==============================] - 1s 5ms/step - loss: 138.3848 - mae: 10.6334 - val_loss: 118.7761 - val_mae: 9.7179\n",
      "Epoch 2/20\n",
      "80/80 [==============================] - 0s 5ms/step - loss: 99.9897 - mae: 8.8645 - val_loss: 73.2470 - val_mae: 7.1830\n",
      "Epoch 3/20\n",
      "80/80 [==============================] - 0s 4ms/step - loss: 61.8442 - mae: 6.6002 - val_loss: 48.8174 - val_mae: 5.5326\n",
      "Epoch 4/20\n",
      "80/80 [==============================] - 0s 4ms/step - loss: 44.6182 - mae: 5.4825 - val_loss: 38.1167 - val_mae: 4.8484\n",
      "Epoch 5/20\n",
      "80/80 [==============================] - 0s 4ms/step - loss: 35.6057 - mae: 4.8687 - val_loss: 31.3577 - val_mae: 4.4225\n",
      "Epoch 6/20\n",
      "80/80 [==============================] - 0s 4ms/step - loss: 29.4706 - mae: 4.4190 - val_loss: 26.5401 - val_mae: 4.0985\n",
      "Epoch 7/20\n",
      "80/80 [==============================] - 0s 4ms/step - loss: 25.1332 - mae: 4.0607 - val_loss: 22.3550 - val_mae: 3.7572\n",
      "Epoch 8/20\n",
      "80/80 [==============================] - 0s 4ms/step - loss: 23.2786 - mae: 3.8557 - val_loss: 19.4896 - val_mae: 3.5090\n",
      "Epoch 9/20\n",
      "80/80 [==============================] - 0s 4ms/step - loss: 20.5863 - mae: 3.5691 - val_loss: 16.8724 - val_mae: 3.2557\n",
      "Epoch 10/20\n",
      "80/80 [==============================] - 0s 5ms/step - loss: 17.5788 - mae: 3.3139 - val_loss: 15.2626 - val_mae: 3.1018\n",
      "Epoch 11/20\n",
      "80/80 [==============================] - 0s 4ms/step - loss: 16.7283 - mae: 3.2244 - val_loss: 13.4012 - val_mae: 2.9013\n",
      "Epoch 12/20\n",
      "80/80 [==============================] - 0s 4ms/step - loss: 15.1378 - mae: 3.0673 - val_loss: 12.6032 - val_mae: 2.8372\n",
      "Epoch 13/20\n",
      "80/80 [==============================] - 0s 5ms/step - loss: 14.1494 - mae: 2.9855 - val_loss: 11.0945 - val_mae: 2.6436\n",
      "Epoch 14/20\n",
      "80/80 [==============================] - 0s 4ms/step - loss: 13.0161 - mae: 2.8443 - val_loss: 10.8208 - val_mae: 2.6246\n",
      "Epoch 15/20\n",
      "80/80 [==============================] - 0s 4ms/step - loss: 12.7459 - mae: 2.8052 - val_loss: 9.7452 - val_mae: 2.4850\n",
      "Epoch 16/20\n",
      "80/80 [==============================] - 0s 4ms/step - loss: 12.3793 - mae: 2.7699 - val_loss: 9.2771 - val_mae: 2.4291\n",
      "Epoch 17/20\n",
      "80/80 [==============================] - 0s 4ms/step - loss: 11.5572 - mae: 2.7179 - val_loss: 9.0967 - val_mae: 2.4089\n",
      "Epoch 18/20\n",
      "80/80 [==============================] - 0s 4ms/step - loss: 11.5076 - mae: 2.7135 - val_loss: 8.8865 - val_mae: 2.3867\n",
      "Epoch 19/20\n",
      "80/80 [==============================] - 0s 4ms/step - loss: 10.9797 - mae: 2.6500 - val_loss: 8.0693 - val_mae: 2.2780\n",
      "Epoch 20/20\n",
      "80/80 [==============================] - 0s 4ms/step - loss: 11.7863 - mae: 2.7223 - val_loss: 8.1615 - val_mae: 2.2968\n"
     ]
    }
   ],
   "source": [
    "model_lstm2.compile(optimizer='rmsprop', loss='mse', metrics=['mae'])\n",
    "history_lstm2 = model_lstm2.fit(train_dataset, epochs=n_epochs,\n",
    "                            validation_data=val_dataset)"
   ]
  },
  {
   "cell_type": "code",
   "execution_count": 32,
   "metadata": {
    "colab": {
     "base_uri": "https://localhost:8080/",
     "height": 279
    },
    "id": "cWpm-j9iSck1",
    "outputId": "cf66d132-b95f-456c-d6a4-86c9d28a5aef"
   },
   "outputs": [
    {
     "data": {
      "image/png": "[encoded data removed]",
      "text/plain": [
       "<Figure size 432x288 with 1 Axes>"
      ]
     },
     "metadata": {
      "needs_background": "light"
     },
     "output_type": "display_data"
    }
   ],
   "source": [
    "# Plot MAE cures for validation and training\n",
    "plot_hist_regression(history_lstm2, baseline)"
   ]
  },
  {
   "cell_type": "code",
   "execution_count": 33,
   "metadata": {
    "colab": {
     "base_uri": "https://localhost:8080/"
    },
    "id": "rAIQrQDVSmSM",
    "outputId": "8008e969-28d8-48e4-a402-720ada6f59a8"
   },
   "outputs": [
    {
     "name": "stdout",
     "output_type": "stream",
     "text": [
      "31/31 [==============================] - 0s 1ms/step - loss: 8.9948 - mae: 2.3630\n",
      "Test MAE = 2.36 degrees\n"
     ]
    }
   ],
   "source": [
    "print('Test MAE = %.2f degrees' % model_lstm2.evaluate(test_dataset)[1])"
   ]
  },
  {
   "cell_type": "markdown",
   "metadata": {
    "id": "H3OrpvE3S4gM"
   },
   "source": [
    "Note that validation set MAE is now lower than MAE on training set -- no longer overfitting. Validation MAE is 2.16 and test MAE is also 2.16.\n",
    "\n",
    "NOTE: This is a very simple dataset with very small differences in performance between different models.  You'll just have to take my word for it that *in general* this approach works. "
   ]
  },
  {
   "cell_type": "code",
   "execution_count": 34,
   "metadata": {
    "colab": {
     "base_uri": "https://localhost:8080/"
    },
    "id": "jq_ZDTttTX6_",
    "outputId": "3178ee55-e729-4191-b765-4e81bec2a291"
   },
   "outputs": [
    {
     "name": "stdout",
     "output_type": "stream",
     "text": [
      "Model: \"sequential_4\"\n",
      "_________________________________________________________________\n",
      "Layer (type)                 Output Shape              Param #   \n",
      "=================================================================\n",
      "lstm_2 (LSTM)                (None, 14, 20)            2160      \n",
      "_________________________________________________________________\n",
      "lstm_3 (LSTM)                (None, 20)                3280      \n",
      "_________________________________________________________________\n",
      "dropout_1 (Dropout)          (None, 20)                0         \n",
      "_________________________________________________________________\n",
      "dense_5 (Dense)              (None, 1)                 21        \n",
      "=================================================================\n",
      "Total params: 5,461\n",
      "Trainable params: 5,461\n",
      "Non-trainable params: 0\n",
      "_________________________________________________________________\n"
     ]
    }
   ],
   "source": [
    "# Performance in the previous figure can (maybe) still be improved\n",
    "# Let's try to add some more layers -- we can do this now that we're no longer overfitting\n",
    "\n",
    "model_lstm3 = models.Sequential()\n",
    "model_lstm3.add(layers.LSTM(20, input_shape=(sequence_length, len(df.columns)-1), recurrent_dropout=0.25, return_sequences=True))  # NEW!\n",
    "model_lstm3.add(layers.LSTM(20, input_shape=(sequence_length, len(df.columns)-1), recurrent_dropout=0.25))  # NEW!!\n",
    "model_lstm3.add(layers.Dropout(0.4))\n",
    "model_lstm3.add(layers.Dense(1))\n",
    "model_lstm3.summary()"
   ]
  },
  {
   "cell_type": "code",
   "execution_count": 35,
   "metadata": {
    "colab": {
     "base_uri": "https://localhost:8080/"
    },
    "id": "9xQXChtNUxzh",
    "outputId": "47adf7db-d1ea-4cbe-f2b2-2ea09bbbb96f"
   },
   "outputs": [
    {
     "name": "stdout",
     "output_type": "stream",
     "text": [
      "Epoch 1/60\n",
      "80/80 [==============================] - 2s 9ms/step - loss: 115.6017 - mae: 9.6917 - val_loss: 71.9688 - val_mae: 7.2917\n",
      "Epoch 2/60\n",
      "80/80 [==============================] - 1s 8ms/step - loss: 54.8489 - mae: 6.1872 - val_loss: 41.3076 - val_mae: 5.0801\n",
      "Epoch 3/60\n",
      "80/80 [==============================] - 1s 8ms/step - loss: 37.9018 - mae: 4.9991 - val_loss: 33.1289 - val_mae: 4.5799\n",
      "Epoch 4/60\n",
      "80/80 [==============================] - 1s 8ms/step - loss: 30.3928 - mae: 4.4300 - val_loss: 27.1151 - val_mae: 4.1334\n",
      "Epoch 5/60\n",
      "80/80 [==============================] - 1s 8ms/step - loss: 25.7761 - mae: 4.0825 - val_loss: 23.4400 - val_mae: 3.8799\n",
      "Epoch 6/60\n",
      "80/80 [==============================] - 1s 8ms/step - loss: 22.3563 - mae: 3.7688 - val_loss: 20.0550 - val_mae: 3.5715\n",
      "Epoch 7/60\n",
      "80/80 [==============================] - 1s 8ms/step - loss: 20.5530 - mae: 3.6083 - val_loss: 17.8149 - val_mae: 3.3762\n",
      "Epoch 8/60\n",
      "80/80 [==============================] - 1s 8ms/step - loss: 18.8076 - mae: 3.4773 - val_loss: 15.6878 - val_mae: 3.1529\n",
      "Epoch 9/60\n",
      "80/80 [==============================] - 1s 8ms/step - loss: 16.2212 - mae: 3.1732 - val_loss: 14.7072 - val_mae: 3.0698\n",
      "Epoch 10/60\n",
      "80/80 [==============================] - 1s 8ms/step - loss: 15.4665 - mae: 3.1153 - val_loss: 13.2061 - val_mae: 2.9112\n",
      "Epoch 11/60\n",
      "80/80 [==============================] - 1s 8ms/step - loss: 14.3438 - mae: 3.0311 - val_loss: 12.6798 - val_mae: 2.8678\n",
      "Epoch 12/60\n",
      "80/80 [==============================] - 1s 8ms/step - loss: 13.3922 - mae: 2.9202 - val_loss: 11.0520 - val_mae: 2.6650\n",
      "Epoch 13/60\n",
      "80/80 [==============================] - 1s 8ms/step - loss: 12.4819 - mae: 2.8251 - val_loss: 10.2293 - val_mae: 2.5656\n",
      "Epoch 14/60\n",
      "80/80 [==============================] - 1s 8ms/step - loss: 12.1885 - mae: 2.8025 - val_loss: 10.0008 - val_mae: 2.5445\n",
      "Epoch 15/60\n",
      "80/80 [==============================] - 1s 8ms/step - loss: 12.2186 - mae: 2.7490 - val_loss: 9.5620 - val_mae: 2.4901\n",
      "Epoch 16/60\n",
      "80/80 [==============================] - 1s 8ms/step - loss: 12.0021 - mae: 2.7366 - val_loss: 9.6097 - val_mae: 2.5071\n",
      "Epoch 17/60\n",
      "80/80 [==============================] - 1s 8ms/step - loss: 10.1734 - mae: 2.5664 - val_loss: 8.2966 - val_mae: 2.3114\n",
      "Epoch 18/60\n",
      "80/80 [==============================] - 1s 8ms/step - loss: 10.5840 - mae: 2.5956 - val_loss: 8.8432 - val_mae: 2.4050\n",
      "Epoch 19/60\n",
      "80/80 [==============================] - 1s 8ms/step - loss: 11.0375 - mae: 2.6385 - val_loss: 8.6819 - val_mae: 2.3776\n"
     ]
    }
   ],
   "source": [
    "model_lstm3.compile(optimizer='rmsprop', loss='mse', metrics=['mae'])\n",
    "\n",
    "callbacks = [EarlyStopping(monitor='val_mae', patience=2)]\n",
    "\n",
    "history_lstm3 = model_lstm3.fit(train_dataset, epochs=60,  # increased number of epochs\n",
    "                            validation_data=val_dataset,\n",
    "                            callbacks=callbacks)  # but added early stopping callback\n"
   ]
  },
  {
   "cell_type": "code",
   "execution_count": 36,
   "metadata": {
    "colab": {
     "base_uri": "https://localhost:8080/",
     "height": 314
    },
    "id": "PtFfB3YaU4k3",
    "outputId": "eb5fd379-362d-4cb4-d846-d6d264dccab1"
   },
   "outputs": [
    {
     "data": {
      "image/png": "[encoded data removed]",
      "text/plain": [
       "<Figure size 432x288 with 1 Axes>"
      ]
     },
     "metadata": {
      "needs_background": "light"
     },
     "output_type": "display_data"
    },
    {
     "name": "stdout",
     "output_type": "stream",
     "text": [
      "31/31 [==============================] - 0s 1ms/step - loss: 9.1487 - mae: 2.3937\n",
      "Test MAE = 2.39 degrees\n"
     ]
    }
   ],
   "source": [
    "# Plot MAE cures for validation and training\n",
    "plot_hist_regression(history_lstm3, baseline)\n",
    "print('Test MAE = %.2f degrees' % model_lstm3.evaluate(test_dataset)[1])"
   ]
  },
  {
   "cell_type": "markdown",
   "metadata": {
    "id": "eUJqRqp1XJnL"
   },
   "source": [
    "Validation MAE = 1.92 degrees\n",
    "\n",
    "Test MAE = 1.89 degrees\n"
   ]
  },
  {
   "cell_type": "markdown",
   "metadata": {
    "id": "zGEuNqw2csXj"
   },
   "source": [
    "# Text"
   ]
  },
  {
   "cell_type": "markdown",
   "metadata": {
    "id": "dtv0EjsTbwvm"
   },
   "source": [
    "## Data prep\n",
    "\n",
    "We'll try to predict whether the review for a movie is positive or negative looking only at the text of the review.\n",
    "\n",
    "We'll use the IMDB text dataset for this task, which is available on `keras.datasets` and described [here](https://keras.io/api/datasets/imdb/). \n",
    "\n",
    "We'll merge the training and test sets and use 60% for training, 20% for validation, and 20% for testing.\n",
    "\n",
    "\n",
    "As this is a binary classificationp problem, we'll use the binary cross entropy loss function. We will keep track of accuracy when training and evaluating the model.\n"
   ]
  },
  {
   "cell_type": "code",
   "execution_count": 37,
   "metadata": {
    "id": "i-mH-8IGwGo1"
   },
   "outputs": [],
   "source": [
    "def plot_hist_classif(hist):\n",
    "  n_ = len(hist.history['accuracy'])\n",
    "  plt.plot(range(1, n_+1), 100*np.asarray(hist.history['accuracy']), 'bo', label='Accuracy on training set')\n",
    "  plt.plot(range(1, n_+1), 100*np.asarray(hist.history['val_accuracy']), 'b', label='Accuracy on validation set')\n",
    "  plt.legend()\n",
    "  plt.xlabel(\"Epoch\") \n",
    "  plt.ylabel(\"Accuracy\")\n",
    "  plt.ylim(0, 100)\n",
    "  plt.axhline(y=50)\n",
    "  plt.show()\n"
   ]
  },
  {
   "cell_type": "code",
   "execution_count": 38,
   "metadata": {
    "colab": {
     "base_uri": "https://localhost:8080/"
    },
    "id": "4TW3Vg49n5V-",
    "outputId": "3807222c-72f1-48b9-ec7e-a45788dc5790"
   },
   "outputs": [
    {
     "name": "stdout",
     "output_type": "stream",
     "text": [
      "Loading data...\n",
      "Downloading data from https://storage.googleapis.com/tensorflow/tf-keras-datasets/imdb.npz\n",
      "17465344/17464789 [==============================] - 1s 0us/step\n",
      "17473536/17464789 [==============================] - 1s 0us/step\n",
      "25000 train sequences (25000,)\n",
      "25000 test sequences (25000,)\n"
     ]
    }
   ],
   "source": [
    "max_features = 15000  # only consider the top 15k words\n",
    "maxlen = 500  # first 500 words of each review\n",
    "batch_size = 32\n",
    "\n",
    "print('Loading data...')\n",
    "# Load dataset\n",
    "(x_train, y_train), (x_test, y_test) = keras.datasets.imdb.load_data(num_words=max_features)\n",
    "print(len(x_train), 'train sequences', x_train.shape)\n",
    "print(len(x_test), 'test sequences', x_test.shape)"
   ]
  },
  {
   "cell_type": "code",
   "execution_count": 39,
   "metadata": {
    "colab": {
     "base_uri": "https://localhost:8080/"
    },
    "id": "8ApTb-jYtSOm",
    "outputId": "f51644cd-02a1-4c35-d903-5fc0d68a3b9b"
   },
   "outputs": [
    {
     "name": "stdout",
     "output_type": "stream",
     "text": [
      "0.5\n",
      "0.5\n"
     ]
    }
   ],
   "source": [
    "# How balanced is this dataset?\n",
    "print(np.sum(y_train)/len(y_train))\n",
    "print(np.sum(y_test)/len(y_test))"
   ]
  },
  {
   "cell_type": "code",
   "execution_count": 40,
   "metadata": {
    "colab": {
     "base_uri": "https://localhost:8080/"
    },
    "id": "Z53Fbicqr8tm",
    "outputId": "4d7c9122-1eca-46cb-a708-cfe4681d93c8"
   },
   "outputs": [
    {
     "name": "stdout",
     "output_type": "stream",
     "text": [
      "(50000,) (50000,)\n",
      "30000 train sequences (30000,)\n",
      "10000 validation sequences (10000,)\n",
      "10000 test sequences (10000,)\n"
     ]
    }
   ],
   "source": [
    "# Merge the two datasets and divide: 60% for training, 20% validation, 20% test\n",
    "x_, y_ = np.concatenate((x_train, x_test)), np.concatenate((y_train, y_test))\n",
    "print(x_.shape, y_.shape)\n",
    "x_train, x_test, y_train, y_test = train_test_split(x_, y_, test_size=0.4, random_state=10)  # 60/40 split\n",
    "x_val, x_test, y_val, y_test = train_test_split(x_test, y_test, test_size=0.5, random_state=10)  # 50/50 split\n",
    "print(len(x_train), 'train sequences', x_train.shape)\n",
    "print(len(x_val), 'validation sequences', x_val.shape)\n",
    "print(len(x_test), 'test sequences', x_test.shape)"
   ]
  },
  {
   "cell_type": "code",
   "execution_count": 41,
   "metadata": {
    "colab": {
     "base_uri": "https://localhost:8080/"
    },
    "id": "5v_Hy-r8o8pR",
    "outputId": "511de152-8560-4580-efce-a7fbdb3175d5"
   },
   "outputs": [
    {
     "data": {
      "text/plain": [
       "[1, 11531, 186, 8, 28, 6, 6482, 7, 269, 4042]"
      ]
     },
     "execution_count": 41,
     "metadata": {},
     "output_type": "execute_result"
    }
   ],
   "source": [
    "x_train[0][:10]  # numbers!!"
   ]
  },
  {
   "cell_type": "code",
   "execution_count": 42,
   "metadata": {
    "colab": {
     "base_uri": "https://localhost:8080/",
     "height": 105
    },
    "id": "rgEgNSLBpFwh",
    "outputId": "a820c43a-3177-45fc-bef4-10a804a18c86"
   },
   "outputs": [
    {
     "name": "stdout",
     "output_type": "stream",
     "text": [
      "Downloading data from https://storage.googleapis.com/tensorflow/tf-keras-datasets/imdb_word_index.json\n",
      "1646592/1641221 [==============================] - 0s 0us/step\n",
      "1654784/1641221 [==============================] - 0s 0us/step\n"
     ]
    },
    {
     "data": {
      "text/plain": [
       "\"the lilly horror in one is fatale br looks meaningless in bronson be showing as you debut film ample to and ingredients zombi ample they for series and thought she's all manipulate and believing in j show look early last quote desire tight interesting that's kind out is far shelter but of frame br and\""
      ]
     },
     "execution_count": 42,
     "metadata": {},
     "output_type": "execute_result"
    }
   ],
   "source": [
    "# We can explore what one of the reviews looks like at this point.\n",
    "\n",
    "# Retrieve the word index file that maps words to indices\n",
    "word_index = keras.datasets.imdb.get_word_index()\n",
    "# Reverse the word index to obtain a dict mapping indices to words (which is what we have)\n",
    "inverted_word_index = dict((i, word) for (word, i) in word_index.items())\n",
    "# Decode the first sequence in the dataset\n",
    "decoded_sequence = \" \".join(inverted_word_index[i] for i in x_train[0])\n",
    "decoded_sequence"
   ]
  },
  {
   "cell_type": "code",
   "execution_count": 43,
   "metadata": {
    "colab": {
     "base_uri": "https://localhost:8080/"
    },
    "id": "ibmO0V-gcthG",
    "outputId": "9422d91d-b296-497b-b038-964ab28ab33c"
   },
   "outputs": [
    {
     "name": "stdout",
     "output_type": "stream",
     "text": [
      "Pad sequences\n",
      "x_train shape: (30000, 500)\n",
      "x_val shape: (10000, 500)\n",
      "x_test shape: (10000, 500)\n"
     ]
    }
   ],
   "source": [
    "# Let's ensure all sequences have the same length through padding\n",
    "# - shorter reviews are padded with 0's\n",
    "# - longer reviews are cut\n",
    "print('Pad sequences')\n",
    "x_train = keras.preprocessing.sequence.pad_sequences(x_train, maxlen=maxlen)\n",
    "x_val = keras.preprocessing.sequence.pad_sequences(x_val, maxlen=maxlen)\n",
    "x_test = keras.preprocessing.sequence.pad_sequences(x_test, maxlen=maxlen)\n",
    "print('x_train shape:', x_train.shape)\n",
    "print('x_val shape:', x_val.shape)\n",
    "print('x_test shape:', x_test.shape)"
   ]
  },
  {
   "cell_type": "code",
   "execution_count": 44,
   "metadata": {
    "colab": {
     "base_uri": "https://localhost:8080/"
    },
    "id": "sBpQpwBAk44H",
    "outputId": "eb86c1c0-0cd1-479e-a4ef-3f58cbf6abb0"
   },
   "outputs": [
    {
     "name": "stdout",
     "output_type": "stream",
     "text": [
      "Model: \"sequential_5\"\n",
      "_________________________________________________________________\n",
      "Layer (type)                 Output Shape              Param #   \n",
      "=================================================================\n",
      "embedding (Embedding)        (None, 500, 128)          1920000   \n",
      "_________________________________________________________________\n",
      "dense_6 (Dense)              (None, 500, 64)           8256      \n",
      "_________________________________________________________________\n",
      "dropout_2 (Dropout)          (None, 500, 64)           0         \n",
      "_________________________________________________________________\n",
      "dense_7 (Dense)              (None, 500, 64)           4160      \n",
      "_________________________________________________________________\n",
      "dropout_3 (Dropout)          (None, 500, 64)           0         \n",
      "_________________________________________________________________\n",
      "flatten_1 (Flatten)          (None, 32000)             0         \n",
      "_________________________________________________________________\n",
      "dense_8 (Dense)              (None, 1)                 32001     \n",
      "=================================================================\n",
      "Total params: 1,964,417\n",
      "Trainable params: 1,964,417\n",
      "Non-trainable params: 0\n",
      "_________________________________________________________________\n"
     ]
    }
   ],
   "source": [
    "# Basic feedforward model\n",
    "model = models.Sequential()\n",
    "model.add(layers.Embedding(max_features, 128, input_length=maxlen))\n",
    "model.add(layers.Dense(64, activation='relu'))\n",
    "model.add(layers.Dropout(0.5))\n",
    "model.add(layers.Dense(64, activation='relu'))\n",
    "model.add(layers.Dropout(0.5))\n",
    "model.add(layers.Flatten())\n",
    "model.add(layers.Dense(1, activation=\"sigmoid\"))\n",
    "model.summary()"
   ]
  },
  {
   "cell_type": "code",
   "execution_count": 45,
   "metadata": {
    "colab": {
     "base_uri": "https://localhost:8080/"
    },
    "id": "-8c7tCS5vrC3",
    "outputId": "aab08477-7bd5-4394-b052-3faa0d266096"
   },
   "outputs": [
    {
     "name": "stdout",
     "output_type": "stream",
     "text": [
      "Epoch 1/20\n",
      "938/938 [==============================] - 17s 18ms/step - loss: 0.4447 - accuracy: 0.7610 - val_loss: 0.2690 - val_accuracy: 0.8912\n",
      "Epoch 2/20\n",
      "938/938 [==============================] - 17s 18ms/step - loss: 0.2454 - accuracy: 0.9033 - val_loss: 0.2733 - val_accuracy: 0.8900\n",
      "Epoch 3/20\n",
      "938/938 [==============================] - 19s 20ms/step - loss: 0.2093 - accuracy: 0.9191 - val_loss: 0.2555 - val_accuracy: 0.8990\n",
      "Epoch 4/20\n",
      "938/938 [==============================] - 17s 18ms/step - loss: 0.1873 - accuracy: 0.9292 - val_loss: 0.2601 - val_accuracy: 0.8991\n",
      "Epoch 5/20\n",
      "938/938 [==============================] - 17s 18ms/step - loss: 0.1805 - accuracy: 0.9308 - val_loss: 0.2620 - val_accuracy: 0.8986\n",
      "Epoch 6/20\n",
      "938/938 [==============================] - 17s 18ms/step - loss: 0.1714 - accuracy: 0.9354 - val_loss: 0.3176 - val_accuracy: 0.8751\n",
      "Epoch 7/20\n",
      "938/938 [==============================] - 17s 18ms/step - loss: 0.1638 - accuracy: 0.9397 - val_loss: 0.2995 - val_accuracy: 0.8872\n",
      "Epoch 8/20\n",
      "938/938 [==============================] - 17s 18ms/step - loss: 0.1563 - accuracy: 0.9419 - val_loss: 0.3477 - val_accuracy: 0.8723\n",
      "Epoch 9/20\n",
      "938/938 [==============================] - 17s 18ms/step - loss: 0.1494 - accuracy: 0.9463 - val_loss: 0.2723 - val_accuracy: 0.8963\n",
      "Epoch 10/20\n",
      "938/938 [==============================] - 17s 18ms/step - loss: 0.1407 - accuracy: 0.9489 - val_loss: 0.4373 - val_accuracy: 0.8527\n",
      "Epoch 11/20\n",
      "938/938 [==============================] - 18s 19ms/step - loss: 0.1378 - accuracy: 0.9509 - val_loss: 0.2921 - val_accuracy: 0.8910\n",
      "Epoch 12/20\n",
      "938/938 [==============================] - 17s 19ms/step - loss: 0.1314 - accuracy: 0.9517 - val_loss: 0.3406 - val_accuracy: 0.8762\n",
      "Epoch 13/20\n",
      "938/938 [==============================] - 17s 18ms/step - loss: 0.1254 - accuracy: 0.9538 - val_loss: 0.4234 - val_accuracy: 0.8630\n",
      "Epoch 14/20\n",
      "938/938 [==============================] - 17s 18ms/step - loss: 0.1191 - accuracy: 0.9569 - val_loss: 0.3517 - val_accuracy: 0.8760\n",
      "Epoch 15/20\n",
      "938/938 [==============================] - 17s 18ms/step - loss: 0.1136 - accuracy: 0.9588 - val_loss: 0.3695 - val_accuracy: 0.8762\n",
      "Epoch 16/20\n",
      "938/938 [==============================] - 17s 19ms/step - loss: 0.1081 - accuracy: 0.9601 - val_loss: 0.3303 - val_accuracy: 0.8848\n",
      "Epoch 17/20\n",
      "938/938 [==============================] - 17s 18ms/step - loss: 0.1041 - accuracy: 0.9621 - val_loss: 0.4350 - val_accuracy: 0.8667\n",
      "Epoch 18/20\n",
      "938/938 [==============================] - 18s 19ms/step - loss: 0.0997 - accuracy: 0.9636 - val_loss: 0.4060 - val_accuracy: 0.8739\n",
      "Epoch 19/20\n",
      "938/938 [==============================] - 18s 19ms/step - loss: 0.0973 - accuracy: 0.9649 - val_loss: 0.4522 - val_accuracy: 0.8716\n",
      "Epoch 20/20\n",
      "938/938 [==============================] - 18s 19ms/step - loss: 0.0923 - accuracy: 0.9666 - val_loss: 0.3926 - val_accuracy: 0.8792\n"
     ]
    }
   ],
   "source": [
    "model.compile(optimizer=\"rmsprop\", loss=\"binary_crossentropy\", metrics=[\"accuracy\"])\n",
    "history = model.fit(x_train, y_train, batch_size=batch_size, epochs=20, validation_data=(x_val, y_val))"
   ]
  },
  {
   "cell_type": "code",
   "execution_count": 46,
   "metadata": {
    "colab": {
     "base_uri": "https://localhost:8080/",
     "height": 318
    },
    "id": "dKBVw5mHv_oX",
    "outputId": "01b16817-5689-4137-d46b-8275b712e986"
   },
   "outputs": [
    {
     "data": {
      "image/png": "[encoded data removed]",
      "text/plain": [
       "<Figure size 432x288 with 1 Axes>"
      ]
     },
     "metadata": {
      "needs_background": "light"
     },
     "output_type": "display_data"
    },
    {
     "name": "stdout",
     "output_type": "stream",
     "text": [
      "313/313 [==============================] - 1s 4ms/step - loss: 0.3787 - accuracy: 0.8832\n",
      "Test Accuracy = 0.88\n"
     ]
    }
   ],
   "source": [
    "plot_hist_classif(history)\n",
    "print('Test Accuracy = %.2f' % model.evaluate(x_test, y_test)[1])  # overfitting!"
   ]
  },
  {
   "cell_type": "code",
   "execution_count": 47,
   "metadata": {
    "colab": {
     "base_uri": "https://localhost:8080/"
    },
    "id": "Ieh7Wl9Pwh8V",
    "outputId": "7e4d2bbc-b62c-407d-ee81-e5d62d9caa3a"
   },
   "outputs": [
    {
     "name": "stdout",
     "output_type": "stream",
     "text": [
      "Model: \"sequential_6\"\n",
      "_________________________________________________________________\n",
      "Layer (type)                 Output Shape              Param #   \n",
      "=================================================================\n",
      "embedding_1 (Embedding)      (None, None, 64)          960000    \n",
      "_________________________________________________________________\n",
      "lstm_4 (LSTM)                (None, 128)               98816     \n",
      "_________________________________________________________________\n",
      "dropout_4 (Dropout)          (None, 128)               0         \n",
      "_________________________________________________________________\n",
      "dense_9 (Dense)              (None, 1)                 129       \n",
      "=================================================================\n",
      "Total params: 1,058,945\n",
      "Trainable params: 1,058,945\n",
      "Non-trainable params: 0\n",
      "_________________________________________________________________\n"
     ]
    }
   ],
   "source": [
    "# Let's try an RNN\n",
    "model = models.Sequential()\n",
    "model.add(layers.Embedding(max_features, 64))\n",
    "model.add(layers.LSTM(128, return_sequences=False))\n",
    "model.add(layers.Dropout(0.5))\n",
    "model.add(layers.Dense(1, activation=\"sigmoid\"))\n",
    "model.compile(optimizer=\"rmsprop\", loss=\"binary_crossentropy\", metrics=[\"accuracy\"])\n",
    "model.summary()"
   ]
  },
  {
   "cell_type": "code",
   "execution_count": 48,
   "metadata": {
    "colab": {
     "base_uri": "https://localhost:8080/",
     "height": 561
    },
    "id": "Sd54xZMmxKBQ",
    "outputId": "96c092e9-eea3-4080-b720-31885daecd83"
   },
   "outputs": [
    {
     "name": "stdout",
     "output_type": "stream",
     "text": [
      "Epoch 1/20\n",
      "938/938 [==============================] - 311s 330ms/step - loss: 0.4230 - accuracy: 0.8136 - val_loss: 0.3087 - val_accuracy: 0.8731\n",
      "Epoch 2/20\n",
      "938/938 [==============================] - 291s 310ms/step - loss: 0.2728 - accuracy: 0.8952 - val_loss: 0.2706 - val_accuracy: 0.8910\n",
      "Epoch 3/20\n",
      "938/938 [==============================] - 285s 303ms/step - loss: 0.2343 - accuracy: 0.9119 - val_loss: 0.3627 - val_accuracy: 0.8272\n",
      "Epoch 4/20\n",
      "938/938 [==============================] - 282s 300ms/step - loss: 0.2042 - accuracy: 0.9246 - val_loss: 0.2756 - val_accuracy: 0.8847\n"
     ]
    },
    {
     "data": {
      "image/png": "[encoded data removed]",
      "text/plain": [
       "<Figure size 432x288 with 1 Axes>"
      ]
     },
     "metadata": {
      "needs_background": "light"
     },
     "output_type": "display_data"
    },
    {
     "name": "stdout",
     "output_type": "stream",
     "text": [
      "313/313 [==============================] - 28s 90ms/step - loss: 0.2720 - accuracy: 0.8889\n",
      "Test Accuracy = 0.89\n"
     ]
    }
   ],
   "source": [
    "# This model will take a long time to train, so we add an early stopping criterion\n",
    "# N.B: It's actually much faster to train WITHOUT A GPU!!\n",
    "callbacks = [EarlyStopping(monitor='val_accuracy', patience=2)]\n",
    "history = model.fit(x_train, y_train, batch_size=batch_size, epochs=20, validation_data=(x_val, y_val), callbacks=callbacks)\n",
    "plot_hist_classif(history)\n",
    "print('Test Accuracy = %.2f' % model.evaluate(x_test, y_test)[1])\n",
    "# Note that we're still overfitting, but this is just an example of use"
   ]
  },
  {
   "cell_type": "markdown",
   "metadata": {
    "id": "kzZhXm5gkz_g"
   },
   "source": [
    "## Your turn!\n",
    "\n",
    "Implement a bidirectional RNN that can outperform the LSTM model we had above.\n",
    "\n",
    "A starting skeleton could be:\n",
    " \n",
    "*   Embedding layer with an output dimension of 64\n",
    "*   Bidirectional layer with a 32-neuron LSTM layer\n",
    "*   Dense layer with 1 neuron and a sigmoid activation\n",
    "\n",
    "Some suggestions:\n",
    "\n",
    "- Change the sizes of the layers (i.e., the numbers of neurons)\n",
    "- Add dropout\n",
    "- Add other recurrent and/or bidirectional layers\n",
    "\n",
    "Once you have a model that scores over 90% on the validation set, check its performance on the test set and upload it on the code checker in Moodle.\n",
    "\n",
    "Note that the model I'm suggesting above will be able to reach the desired performance, but it will show signs of overfitting. Can you do it by adding regularization (dropout, smaller network) so you don't overfit?\n"
   ]
  },
  {
   "cell_type": "code",
   "execution_count": null,
   "metadata": {
    "id": "jCHOC7dyadaj"
   },
   "outputs": [],
   "source": [
    "n_ = 10  # number of epochs. You can edit this\n",
    "\n",
    "model = models.Sequential()\n",
    "# YOUR CODE HERE!\n",
    "\n",
    "\n",
    "# I DON'T RECOMMEND THAT YOU CHANGE CODE AFTER THIS POINT\n",
    "model.compile(optimizer=\"rmsprop\", loss=\"binary_crossentropy\", metrics=[\"accuracy\"])\n",
    "\n",
    "print(model.summary())\n",
    "\n",
    "# This model will take a long time to train, so we add an early stopping criterion\n",
    "# I've also added a ModelCheckpoint that will save the best model according to val_accuracy regardless of whether we continue training\n",
    "callbacks = [EarlyStopping(monitor='val_accuracy', patience=1),\n",
    "             ModelCheckpoint(\"model.keras\", save_best_only=True, monitor=\"val_accuracy\", mode='max')]\n",
    "\n",
    "history = model.fit(x_train, y_train, batch_size=batch_size, epochs=n_, \n",
    "                    validation_data=(x_val, y_val), \n",
    "                    callbacks=callbacks)\n",
    "plot_hist_classif(history)\n",
    "model = keras.models.load_model(\"model.keras\")\n",
    "print('Test Accuracy = %.2f' % model.evaluate(x_test, y_test)[1])"
   ]
  },
  {
   "cell_type": "code",
   "execution_count": null,
   "metadata": {
    "id": "ZFBmg66_CR7y"
   },
   "outputs": [],
   "source": [
    "if model.count_params() > 1000000:\n",
    "    print(\"Due to memory constraints on Moodle, the lab quiz has a 10MB limit on your model size, so you need to use a smaller model to validate through the auto-marker.\")\n",
    "\n",
    "if history.history[\"val_accuracy\"][-1] > 0.9:\n",
    "    print(\"Your model is accurate enough!\")\n",
    "\n",
    "else:\n",
    "    print(\"Accuracy is below the threshold!\")\n",
    "    raise Exception(\"Your model isn't accurate enough to pass the progress checker!\")\n",
    "# Save the model into a local folder\n",
    "keras.models.save_model(model, \"Model.h5\",save_format='h5')\n",
    "print('Model saved! You can now upload it to the lab quiz.')"
   ]
  },
  {
   "cell_type": "code",
   "execution_count": null,
   "metadata": {
    "id": "hv7PyBQQsXav"
   },
   "outputs": [],
   "source": []
  }
 ],
 "metadata": {
  "colab": {
   "collapsed_sections": [
    "WlhjIvZR_a0Q",
    "rloJamyvWPWj",
    "7c-duA1Z_a0R",
    "3ozUAZX__a0R"
   ],
   "include_colab_link": true,
   "name": "rnn.ipynb",
   "provenance": []
  },
  "kernelspec": {
   "display_name": "tf",
   "language": "python",
   "name": "tf"
  },
  "language_info": {
   "codemirror_mode": {
    "name": "ipython",
    "version": 3
   },
   "file_extension": ".py",
   "mimetype": "text/x-python",
   "name": "python",
   "nbconvert_exporter": "python",
   "pygments_lexer": "ipython3",
   "version": "3.9.7"
  }
 },
 "nbformat": 4,
 "nbformat_minor": 1
}
